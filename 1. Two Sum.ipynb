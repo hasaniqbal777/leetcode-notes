{
 "cells": [
  {
   "cell_type": "markdown",
   "metadata": {},
   "source": [
    "## LeetCode 1. Two Sum\n",
    "URL: https://leetcode.com/problems/two-sum/\n",
    "\n",
    "Given an array of integers nums and an integer target, return indices of the two numbers such that they add up to target.\n",
    "\n",
    "You may assume that each input would have exactly one solution, and you may not use the same element twice.\n",
    "\n",
    "You can return the answer in any order.\n",
    "\n",
    " \n",
    "\n",
    "Example 1:\n",
    "\n",
    "Input: nums = [2,7,11,15], target = 9\n",
    "Output: [0,1]\n",
    "Explanation: Because nums[0] + nums[1] == 9, we return [0, 1].\n",
    "Example 2:\n",
    "\n",
    "Input: nums = [3,2,4], target = 6\n",
    "Output: [1,2]\n",
    "Example 3:\n",
    "\n",
    "Input: nums = [3,3], target = 6\n",
    "Output: [0,1]\n",
    " \n",
    "\n",
    "Constraints:\n",
    "\n",
    "2 <= nums.length <= 104\n",
    "-109 <= nums[i] <= 109\n",
    "-109 <= target <= 109\n",
    "Only one valid answer exists.\n",
    " \n",
    "\n",
    "Follow-up: Can you come up with an algorithm that is less than O(n2) time complexity?"
   ]
  },
  {
   "cell_type": "code",
   "execution_count": 2,
   "metadata": {},
   "outputs": [],
   "source": [
    "from typing import List"
   ]
  },
  {
   "cell_type": "markdown",
   "metadata": {},
   "source": [
    "### Approach 1: Brute Force"
   ]
  },
  {
   "cell_type": "code",
   "execution_count": 3,
   "metadata": {},
   "outputs": [
    {
     "name": "stdout",
     "output_type": "stream",
     "text": [
      "All tests passed\n"
     ]
    }
   ],
   "source": [
    "# Time Complexity: O(n^2)\n",
    "# Space Complexity: O(1)\n",
    "class Solution:\n",
    "    def twoSum(self, nums: List[int], target: int) -> List[int]:\n",
    "        for i in range(len(nums) - 1):\n",
    "            for j in range(i + 1, len(nums)):\n",
    "                if nums[i] + nums[j] == target:\n",
    "                    return [i, j]\n",
    "        return []\n",
    "    \n",
    "    def test(self):\n",
    "        assert(self.twoSum([2, 7, 11, 15], 9) == [0, 1])\n",
    "        assert(self.twoSum([3, 2, 4], 6) == [1, 2])\n",
    "        assert(self.twoSum([3, 3], 6) == [0, 1])\n",
    "        print('All tests passed')\n",
    "\n",
    "sol = Solution()\n",
    "sol.test()"
   ]
  },
  {
   "cell_type": "markdown",
   "metadata": {},
   "source": [
    "### Approach 2: Hashmap"
   ]
  },
  {
   "cell_type": "code",
   "execution_count": 4,
   "metadata": {},
   "outputs": [
    {
     "name": "stdout",
     "output_type": "stream",
     "text": [
      "All tests passed\n"
     ]
    }
   ],
   "source": [
    "# Time Complexity: O(n)\n",
    "# Space Complexity: O(n)\n",
    "class Solution:\n",
    "    def twoSum(self, nums: List[int], target: int) -> List[int]:\n",
    "        # Initialize a dictionary to store the index of each number encountered\n",
    "        num_to_index = {}\n",
    "        \n",
    "        # Iterate through the list of numbers\n",
    "        for i, num in enumerate(nums):\n",
    "            # Calculate the complement of the current number\n",
    "            complement = target - num\n",
    "            \n",
    "            # If the complement is already in our dictionary, we have found a solution\n",
    "            if complement in num_to_index:\n",
    "                return [num_to_index[complement], i]\n",
    "            \n",
    "            # Otherwise, store the index of the current number with its value as the key\n",
    "            num_to_index[num] = i\n",
    "        \n",
    "        # If no solution is found, return an empty list (though this case should never happen for valid inputs)\n",
    "        return []\n",
    "    \n",
    "    def test(self):\n",
    "        assert(self.twoSum([2, 7, 11, 15], 9) == [0, 1])\n",
    "        assert(self.twoSum([3, 2, 4], 6) == [1, 2])\n",
    "        assert(self.twoSum([3, 3], 6) == [0, 1])\n",
    "        print('All tests passed')\n",
    "\n",
    "sol = Solution()\n",
    "sol.test()"
   ]
  },
  {
   "cell_type": "markdown",
   "metadata": {},
   "source": [
    "### Approach 3: Two Pointers"
   ]
  },
  {
   "cell_type": "code",
   "execution_count": 5,
   "metadata": {},
   "outputs": [
    {
     "name": "stdout",
     "output_type": "stream",
     "text": [
      "All tests passed\n"
     ]
    }
   ],
   "source": [
    "# Time Complexity: O(nlogn)\n",
    "# Space Complexity: O(n)\n",
    "class Solution:\n",
    "    def twoSum(self, nums: List[int], target: int) -> List[int]:\n",
    "        # Initialize a pointer to the beginning of the list\n",
    "        left = 0\n",
    "\n",
    "        # Initialize a pointer to the end of the list\n",
    "        right = len(nums) - 1\n",
    "\n",
    "        # Sort the list of numbers\n",
    "        nums = sorted(enumerate(nums), key=lambda x: x[1])\n",
    "\n",
    "        # Iterate through the list of numbers\n",
    "        while left < right:\n",
    "            # Calculate the sum of the numbers at the left and right pointers\n",
    "            total = nums[left][1] + nums[right][1]\n",
    "\n",
    "            # If the sum is equal to the target, we have found a solution\n",
    "            if total == target:\n",
    "                return [nums[left][0], nums[right][0]]\n",
    "\n",
    "            # If the sum is less than the target, move the left pointer to the right\n",
    "            elif total < target:\n",
    "                left += 1\n",
    "\n",
    "            # If the sum is greater than the target, move the right pointer to the left\n",
    "            else:\n",
    "                right -= 1\n",
    "        \n",
    "        # If no solution is found, return an empty list (though this case should never happen for valid inputs)\n",
    "        return []\n",
    "    \n",
    "    def test(self):\n",
    "        assert(self.twoSum([2, 7, 11, 15], 9) == [0, 1])\n",
    "        assert(self.twoSum([3, 2, 4], 6) == [1, 2])\n",
    "        assert(self.twoSum([3, 3], 6) == [0, 1])\n",
    "        print('All tests passed')\n",
    "\n",
    "sol = Solution()\n",
    "sol.test()"
   ]
  },
  {
   "cell_type": "markdown",
   "metadata": {},
   "source": [
    "### Approach 4: Two Hashmaps"
   ]
  },
  {
   "cell_type": "code",
   "execution_count": 6,
   "metadata": {},
   "outputs": [
    {
     "name": "stdout",
     "output_type": "stream",
     "text": [
      "All tests passed\n"
     ]
    }
   ],
   "source": [
    "# Time Complexity: O(n)\n",
    "# Space Complexity: O(n)\n",
    "class Solution:\n",
    "    def twoSum(self, nums: List[int], target: int) -> List[int]:\n",
    "        # Initialize a dictionary to store the index of each number encountered\n",
    "        num_to_index = {}\n",
    "        \n",
    "        # First pass: Populate the dictionary\n",
    "        for i, num in enumerate(nums):\n",
    "            num_to_index[num] = i\n",
    "        \n",
    "        # Second pass: Check for the complement\n",
    "        for i, num in enumerate(nums):\n",
    "            complement = target - num\n",
    "            if complement in num_to_index and num_to_index[complement] != i:\n",
    "                return [i, num_to_index[complement]]\n",
    "        \n",
    "        return []\n",
    "    \n",
    "    def test(self):\n",
    "        assert(self.twoSum([2, 7, 11, 15], 9) == [0, 1])\n",
    "        assert(self.twoSum([3, 2, 4], 6) == [1, 2])\n",
    "        assert(self.twoSum([3, 3], 6) == [0, 1])\n",
    "        print('All tests passed')\n",
    "\n",
    "sol = Solution()\n",
    "sol.test()"
   ]
  }
 ],
 "metadata": {
  "kernelspec": {
   "display_name": "ds",
   "language": "python",
   "name": "python3"
  },
  "language_info": {
   "codemirror_mode": {
    "name": "ipython",
    "version": 3
   },
   "file_extension": ".py",
   "mimetype": "text/x-python",
   "name": "python",
   "nbconvert_exporter": "python",
   "pygments_lexer": "ipython3",
   "version": "3.11.7"
  }
 },
 "nbformat": 4,
 "nbformat_minor": 2
}
